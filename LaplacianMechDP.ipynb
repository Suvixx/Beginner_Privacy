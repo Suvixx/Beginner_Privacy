{
  "nbformat": 4,
  "nbformat_minor": 0,
  "metadata": {
    "colab": {
      "name": "LaplacianMechDP.ipynb",
      "provenance": [],
      "include_colab_link": true
    },
    "kernelspec": {
      "name": "python3",
      "display_name": "Python 3"
    },
    "language_info": {
      "name": "python"
    }
  },
  "cells": [
    {
      "cell_type": "markdown",
      "metadata": {
        "id": "view-in-github",
        "colab_type": "text"
      },
      "source": [
        "<a href=\"https://colab.research.google.com/github/Suvixx/Beginner_Privacy/blob/main/LaplacianMechDP.ipynb\" target=\"_parent\"><img src=\"https://colab.research.google.com/assets/colab-badge.svg\" alt=\"Open In Colab\"/></a>"
      ]
    },
    {
      "cell_type": "code",
      "metadata": {
        "id": "TGtoI7ABtvww",
        "colab": {
          "base_uri": "https://localhost:8080/",
          "height": 902
        },
        "outputId": "9417c5c1-19a3-4b55-f0ef-1bf52ecf47be"
      },
      "source": [
        "import numpy as np\n",
        "import matplotlib.pyplot as plt\n",
        "epsilon=2.5\n",
        "data=np.random.uniform(low=0.0,high=1.0,size=100)\n",
        "print(data)\n",
        "lap_data=data\n",
        "for i in range(100):\n",
        "  lap_data[i]=lap_data[i]+np.random.laplace(loc=0,scale=1/epsilon)\n",
        "print(lap_data)\n",
        "print('The number of values reported between 0.5 and 0.75 with noise is '+str(lap_data[(data>0.5) & (data<0.75)].size)+'\\nThe actual number of values is '+str(data[(data>0.5) & (data<0.75)].size))\n",
        "plt.subplot(1,2,1)\n",
        "plt.hist(data,20,facecolor='blue')\n",
        "plt.ylabel('Frequency of Data Values')\n",
        "plt.xlabel('Data Values')\n",
        "plt.subplot(1,2,2)\n",
        "plt.hist(lap_data,20,facecolor='red')\n",
        "plt.ylabel('Frequency of Noisy Data Values')\n",
        "plt.xlabel('Data Values')\n",
        "plt.tight_layout()\n",
        "plt.show()"
      ],
      "execution_count": 14,
      "outputs": [
        {
          "output_type": "stream",
          "text": [
            "[0.3660398  0.22607207 0.17100864 0.61039608 0.81474467 0.52999784\n",
            " 0.54286061 0.66115713 0.74390052 0.95296946 0.60823544 0.89266744\n",
            " 0.90866871 0.30035348 0.01362147 0.5043781  0.00875273 0.32364127\n",
            " 0.30965047 0.37481512 0.29826846 0.59914761 0.55502409 0.64763868\n",
            " 0.13064551 0.44091576 0.52881259 0.33739992 0.46771782 0.54787575\n",
            " 0.66903969 0.09083182 0.64941044 0.84991956 0.84826175 0.67891259\n",
            " 0.03174676 0.13567813 0.84905004 0.4086984  0.80473717 0.85613336\n",
            " 0.56357558 0.28656929 0.994575   0.25127002 0.05641389 0.32937827\n",
            " 0.78238886 0.39976217 0.53535145 0.24644532 0.23830406 0.99138015\n",
            " 0.23652633 0.71671331 0.03338122 0.30920899 0.03207089 0.98942548\n",
            " 0.92887423 0.1742467  0.7880779  0.14655509 0.48162409 0.7001263\n",
            " 0.69521965 0.09609199 0.5174456  0.34745129 0.85886565 0.32377189\n",
            " 0.67406038 0.40193579 0.50251084 0.59312781 0.78866855 0.55682183\n",
            " 0.0047827  0.41251561 0.10490677 0.22169533 0.54719777 0.87059053\n",
            " 0.06984488 0.30815463 0.51005495 0.8514818  0.56065207 0.82866345\n",
            " 0.15941426 0.97190763 0.34699927 0.45834389 0.29334589 0.31710127\n",
            " 0.05861302 0.18176362 0.74219272 0.21438846]\n",
            "[ 1.03701127  0.02779997 -0.00858635  0.90659548  0.6156724   1.39852637\n",
            "  0.34210946  1.83237822  0.34394519  1.0424104  -0.31140217  0.72781748\n",
            "  0.61856019  2.54438111 -0.28085424  0.36652856 -0.52002644  0.40496452\n",
            "  0.2359171   0.1871697  -0.09956935  3.97819911  0.15383493  0.8248186\n",
            "  1.10249596  0.79385088 -0.01109376  0.11286399  0.35074322  0.74976885\n",
            "  0.46514844 -0.85157563  0.96839093  0.13814405  0.78091716  0.520143\n",
            "  0.11699325  0.77627247  1.15247376 -0.25309882  0.38973912  0.21686424\n",
            " -0.02443303  0.4075057   1.2904869  -1.38263766  0.37839489  0.27158956\n",
            "  0.72465121  0.37178215 -0.30600004 -0.03842528  1.01703996  1.80455858\n",
            " -0.18750314  0.77020766  1.09256044  0.21098952 -0.927927    0.618085\n",
            "  0.31860808  0.89418498  0.86934787 -0.76948441  0.74857545  0.43986084\n",
            "  0.49213791  0.35377963  0.64017421 -0.07829195  1.33926615 -0.54165806\n",
            "  0.81682648  1.14899514  1.42454798 -0.37605129  0.83244003 -0.12786779\n",
            " -0.36200479  0.20012066 -0.27973511  0.05574734  0.69347873  0.42455944\n",
            "  0.29916939  2.74630224  0.30480944  0.72682521  0.66224406  1.27739759\n",
            " -1.06560609  0.75370915  0.68731578  0.45170851  0.44268889  0.45529684\n",
            "  0.41170241  0.29763231  1.03487111  0.0220312 ]\n",
            "The number of values reported between 0.5 and 0.75 with noise is 13\n",
            "The actual number of values is 13\n"
          ],
          "name": "stdout"
        },
        {
          "output_type": "display_data",
          "data": {
            "image/png": "[encoded data removed]",
            "text/plain": [
              "<Figure size 432x288 with 2 Axes>"
            ]
          },
          "metadata": {
            "tags": [],
            "needs_background": "light"
          }
        }
      ]
    },
    {
      "cell_type": "markdown",
      "metadata": {
        "id": "tKeXXn_r2A4a"
      },
      "source": [
        "References: \n",
        "\n",
        "Dwork and Roth\n",
        "\n",
        "Gautam Kamath's Notes on DP\n",
        "\n",
        "Differential Privacy - Noise Adding Mechanisms (https://becominghuman.ai/differential-privacy-noise-adding-mechanisms-ede242dcbb2e)"
      ]
    }
  ]
}