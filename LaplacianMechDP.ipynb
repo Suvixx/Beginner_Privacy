{
  "nbformat": 4,
  "nbformat_minor": 0,
  "metadata": {
    "colab": {
      "name": "LaplacianMechDP.ipynb",
      "provenance": [],
      "authorship_tag": "ABX9TyPd+AfbYlJ5JGot378l5Ujw",
      "include_colab_link": true
    },
    "kernelspec": {
      "name": "python3",
      "display_name": "Python 3"
    },
    "language_info": {
      "name": "python"
    }
  },
  "cells": [
    {
      "cell_type": "markdown",
      "metadata": {
        "id": "view-in-github",
        "colab_type": "text"
      },
      "source": [
        "<a href=\"https://colab.research.google.com/github/Suvixx/Beginner_Privacy/blob/main/LaplacianMechDP.ipynb\" target=\"_parent\"><img src=\"https://colab.research.google.com/assets/colab-badge.svg\" alt=\"Open In Colab\"/></a>"
      ]
    },
    {
      "cell_type": "code",
      "metadata": {
        "id": "TGtoI7ABtvww",
        "colab": {
          "base_uri": "https://localhost:8080/"
        },
        "outputId": "6af59378-bfc6-478b-ff78-156a6f078b34"
      },
      "source": [
        "import numpy as np\n",
        "import matplotlib.pyplot as plt\n",
        "epsilon=2.5\n",
        "data=np.random.uniform(low=0.0,high=1.0,size=100)\n",
        "print(data)\n",
        "lap_data=data[(data>0.5) & (data<0.75)].shape[0]+np.random.laplace(loc=0,scale=1/epsilon)\n",
        "print(lap_data)"
      ],
      "execution_count": 8,
      "outputs": [
        {
          "output_type": "stream",
          "text": [
            "[0.08608728 0.24778864 0.91888481 0.82114272 0.31268038 0.65030648\n",
            " 0.20757035 0.87693771 0.43070995 0.88665673 0.52515153 0.47294487\n",
            " 0.24885079 0.02046027 0.81459973 0.8713168  0.79717138 0.45001262\n",
            " 0.06906515 0.83969788 0.06197234 0.0455502  0.74643105 0.02467788\n",
            " 0.65166052 0.57303997 0.12723826 0.09422131 0.6901088  0.48066141\n",
            " 0.91841607 0.16257887 0.71227502 0.82196114 0.91642902 0.82236453\n",
            " 0.2476804  0.45376323 0.74188486 0.48518081 0.49648171 0.27807314\n",
            " 0.14069503 0.21285102 0.24193383 0.69352069 0.05465836 0.62412539\n",
            " 0.51658401 0.71705064 0.55790935 0.0851555  0.80963376 0.56607974\n",
            " 0.08799049 0.09388695 0.13499039 0.83962879 0.39306268 0.58016761\n",
            " 0.65268715 0.54016277 0.23794221 0.23942385 0.62336763 0.12670172\n",
            " 0.80731687 0.39524172 0.03258831 0.97837779 0.91984927 0.11334222\n",
            " 0.63774781 0.10365051 0.40429938 0.29878484 0.51390528 0.30611071\n",
            " 0.40675238 0.22884555 0.06017261 0.34876829 0.5225845  0.37850561\n",
            " 0.34298666 0.81321484 0.6999262  0.04276762 0.29082182 0.29910077\n",
            " 0.73328166 0.60338446 0.87570764 0.59759675 0.02396834 0.86203359\n",
            " 0.31260537 0.01341276 0.43731379 0.76035189]\n",
            "25.059345702989347\n"
          ],
          "name": "stdout"
        }
      ]
    },
    {
      "cell_type": "code",
      "metadata": {
        "id": "RBUM4TL7FJ2V"
      },
      "source": [
        ""
      ],
      "execution_count": null,
      "outputs": []
    },
    {
      "cell_type": "code",
      "metadata": {
        "id": "S2L5HDw3FIEf"
      },
      "source": [
        ""
      ],
      "execution_count": null,
      "outputs": []
    },
    {
      "cell_type": "code",
      "metadata": {
        "id": "pOsrV_RhE5K_"
      },
      "source": [
        ""
      ],
      "execution_count": null,
      "outputs": []
    },
    {
      "cell_type": "code",
      "metadata": {
        "id": "ymqm3OZ1Ez6c"
      },
      "source": [
        ""
      ],
      "execution_count": null,
      "outputs": []
    },
    {
      "cell_type": "code",
      "metadata": {
        "id": "7Z7TVP9aEv3R"
      },
      "source": [
        ""
      ],
      "execution_count": null,
      "outputs": []
    },
    {
      "cell_type": "code",
      "metadata": {
        "id": "4JU_4s5JEj1i"
      },
      "source": [
        ""
      ],
      "execution_count": null,
      "outputs": []
    },
    {
      "cell_type": "code",
      "metadata": {
        "id": "dDp3x8_VEiJv"
      },
      "source": [
        ""
      ],
      "execution_count": null,
      "outputs": []
    },
    {
      "cell_type": "code",
      "metadata": {
        "id": "NCQ10j_rEWNV"
      },
      "source": [
        ""
      ],
      "execution_count": null,
      "outputs": []
    },
    {
      "cell_type": "markdown",
      "metadata": {
        "id": "tKeXXn_r2A4a"
      },
      "source": [
        "References: \n",
        "\n",
        "Dwork and Roth\n",
        "\n",
        "Gautam Kamath's Notes on DP\n",
        "\n",
        "Differential Privacy - Noise Adding Mechanisms (https://becominghuman.ai/differential-privacy-noise-adding-mechanisms-ede242dcbb2e)"
      ]
    }
  ]
}