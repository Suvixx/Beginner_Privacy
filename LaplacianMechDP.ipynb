{
  "nbformat": 4,
  "nbformat_minor": 0,
  "metadata": {
    "colab": {
      "name": "LaplacianMechDP.ipynb",
      "provenance": [],
      "include_colab_link": true
    },
    "kernelspec": {
      "name": "python3",
      "display_name": "Python 3"
    },
    "language_info": {
      "name": "python"
    }
  },
  "cells": [
    {
      "cell_type": "markdown",
      "metadata": {
        "id": "view-in-github",
        "colab_type": "text"
      },
      "source": [
        "<a href=\"https://colab.research.google.com/github/Suvixx/Beginner_Privacy/blob/main/LaplacianMechDP.ipynb\" target=\"_parent\"><img src=\"https://colab.research.google.com/assets/colab-badge.svg\" alt=\"Open In Colab\"/></a>"
      ]
    },
    {
      "cell_type": "code",
      "metadata": {
        "id": "TGtoI7ABtvww",
        "colab": {
          "base_uri": "https://localhost:8080/",
          "height": 1000
        },
        "outputId": "82add229-b539-4108-89e6-6d9c1984a635"
      },
      "source": [
        "import numpy as np\n",
        "import matplotlib.pyplot as plt\n",
        "epsilon=2.5\n",
        "data=np.random.uniform(low=0.0,high=1.0,size=100)\n",
        "print(data)\n",
        "lap_data=data\n",
        "for i in range(100):\n",
        "  lap_data[i]=lap_data[i]+np.random.laplace(loc=0,scale=1/epsilon)\n",
        "print(lap_data)\n",
        "print('The number of values reported between 0.5 and 0.75 with noise is '+str(lap_data[(data>0.5) & (data<0.75)].size)+'\\nThe actual number of values is '+str(data[(data>0.5) & (data<0.75)].size))\n",
        "plt.subplot(1,2,1)\n",
        "plt.hist(data,20,facecolor='blue')\n",
        "plt.ylabel('Frequency of Data Values')\n",
        "plt.xlabel('Data Values')\n",
        "plt.subplot(1,2,2)\n",
        "plt.hist(lap_data,20,facecolor='red')\n",
        "plt.ylabel('Frequency of Noisy Data Values')\n",
        "plt.xlabel('Data Values')\n",
        "plt.show()"
      ],
      "execution_count": 13,
      "outputs": [
        {
          "output_type": "stream",
          "text": [
            "[1.52680542e-01 9.90649764e-02 2.51708964e-01 8.90022312e-01\n",
            " 6.10552201e-02 6.82319235e-01 4.53785618e-01 2.85585714e-01\n",
            " 6.22044484e-01 4.45512947e-01 9.47401777e-02 8.78864368e-01\n",
            " 3.48977554e-03 5.89389369e-01 2.56471929e-01 7.68625704e-02\n",
            " 1.63461528e-01 7.16945682e-01 6.71812003e-01 3.63059434e-01\n",
            " 9.18341567e-01 3.39756649e-01 5.96907947e-01 9.31644827e-01\n",
            " 7.67578945e-01 9.23986933e-01 4.93292759e-01 5.41792916e-01\n",
            " 4.13315905e-01 2.04495191e-01 5.25255143e-01 7.87716084e-01\n",
            " 3.89005740e-01 9.60484023e-01 6.43330046e-02 2.87404698e-04\n",
            " 9.86732707e-01 2.10907565e-01 4.65521365e-01 2.82825665e-01\n",
            " 5.44137159e-01 9.28234163e-01 7.91144219e-01 1.35181614e-01\n",
            " 4.55178283e-01 5.99772604e-02 7.63104028e-01 7.20333580e-01\n",
            " 7.73198330e-01 4.24899682e-02 1.88361637e-01 6.69108619e-01\n",
            " 7.45339747e-02 6.17020325e-01 1.67242257e-01 3.88243081e-01\n",
            " 8.94893666e-01 4.30031431e-01 5.02682302e-01 3.58490825e-02\n",
            " 7.18691575e-01 6.51867297e-01 5.48075051e-01 1.55522745e-02\n",
            " 9.03104690e-01 3.86456261e-01 4.98752523e-01 8.60503763e-02\n",
            " 5.53263267e-01 4.10058487e-01 5.14323150e-01 3.40746299e-01\n",
            " 6.41316143e-01 5.74976788e-01 3.60170201e-01 1.33238498e-01\n",
            " 9.81481099e-01 7.76176849e-01 8.03337634e-01 3.52672454e-01\n",
            " 7.93445594e-01 4.46088467e-01 5.58912830e-01 9.79681600e-01\n",
            " 6.79145093e-01 1.42906668e-01 4.74398026e-02 3.37756769e-01\n",
            " 4.84349835e-01 5.49353679e-01 6.64645447e-01 9.00395963e-01\n",
            " 6.21514615e-01 3.36809591e-02 8.82697705e-01 1.55263824e-01\n",
            " 5.07550376e-01 7.79772558e-02 9.31376549e-01 7.96351254e-01]\n",
            "[ 0.24440779 -0.08372171  0.17582882  0.44804113  0.60117002  0.96958481\n",
            "  0.7671273   0.5082559   1.04567613  0.78166527  0.47980447  1.55913672\n",
            "  0.2501085   0.48354932 -0.04721273 -0.17086171 -0.65543331  1.2705603\n",
            "  1.23095572  0.61505394  1.11192713  0.79112241  0.88989985  1.60261399\n",
            "  0.47667191  0.94219877  0.37235874  0.86257288  0.0490881   0.14898201\n",
            "  0.98416123  0.74673334  0.70086111  0.98832892  0.23892146 -0.2685289\n",
            "  1.0214474  -0.4648548   0.47943641  0.30625136  0.56194316  1.06521833\n",
            "  0.52232691 -0.96728419  0.12163561 -0.9602477   0.67721417  0.62341211\n",
            "  0.57450706 -0.42564252  1.870451    0.61839201  0.32714708  0.65898387\n",
            "  0.45174227 -0.27487862  1.06082154  0.37355355  0.05088619 -0.3708662\n",
            "  1.1111447   0.13852711  0.91108952 -0.92509339  0.86373416  0.43087004\n",
            "  0.33756514  0.44569892  0.8077937   0.13438766  0.34831459 -0.50272772\n",
            "  0.2729639   1.22387549  0.59873205  1.05517557  1.52855282  0.86329579\n",
            "  1.09699771  0.41502701  0.88284206  0.05992907  0.65330048  0.98134\n",
            "  0.62905421 -0.74821646  0.08617205  0.03060299 -0.03674719  0.62657552\n",
            "  0.55924917  0.70327453  0.39401936 -0.02179167  0.95078085 -0.05396237\n",
            "  0.3079422  -0.03322026  0.74457049  0.77011476]\n",
            "The number of values reported between 0.5 and 0.75 with noise is 19\n",
            "The actual number of values is 19\n"
          ],
          "name": "stdout"
        },
        {
          "output_type": "display_data",
          "data": {
            "image/png": "[encoded data removed]",
            "text/plain": [
              "<Figure size 432x288 with 2 Axes>"
            ]
          },
          "metadata": {
            "tags": [],
            "needs_background": "light"
          }
        }
      ]
    },
    {
      "cell_type": "markdown",
      "metadata": {
        "id": "tKeXXn_r2A4a"
      },
      "source": [
        "References: \n",
        "\n",
        "Dwork and Roth\n",
        "\n",
        "Gautam Kamath's Notes on DP\n",
        "\n",
        "Differential Privacy - Noise Adding Mechanisms (https://becominghuman.ai/differential-privacy-noise-adding-mechanisms-ede242dcbb2e)"
      ]
    }
  ]
}